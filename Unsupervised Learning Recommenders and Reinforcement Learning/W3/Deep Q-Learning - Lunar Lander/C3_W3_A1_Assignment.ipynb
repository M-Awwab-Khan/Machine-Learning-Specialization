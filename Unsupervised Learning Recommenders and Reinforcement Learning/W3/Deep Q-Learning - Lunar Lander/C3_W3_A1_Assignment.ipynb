{
 "cells": [
  {
   "cell_type": "markdown",
   "metadata": {},
   "source": [
    "# Deep Q-Learning - Lunar Lander\n",
    "\n",
    "In this assignment, you will train an agent to land a lunar lander safely on a landing pad on the surface of the moon.\n",
    "\n",
    "\n",
    "# Outline\n",
    "- [ 1 - Import Packages <img align=\"Right\" src=\"./images/lunar_lander.gif\" width = 60% >](#1)\n",
    "- [ 2 - Hyperparameters](#2)\n",
    "- [ 3 - The Lunar Lander Environment](#3)\n",
    "  - [ 3.1 Action Space](#3.1)\n",
    "  - [ 3.2 Observation Space](#3.2)\n",
    "  - [ 3.3 Rewards](#3.3)\n",
    "  - [ 3.4 Episode Termination](#3.4)\n",
    "- [ 4 - Load the Environment](#4)\n",
    "- [ 5 - Interacting with the Gym Environment](#5)\n",
    "    - [ 5.1 Exploring the Environment's Dynamics](#5.1)\n",
    "- [ 6 - Deep Q-Learning](#6)\n",
    "  - [ 6.1 Target Network](#6.1)\n",
    "    - [ Exercise 1](#ex01)\n",
    "  - [ 6.2 Experience Replay](#6.2)\n",
    "- [ 7 - Deep Q-Learning Algorithm with Experience Replay](#7)\n",
    "  - [ Exercise 2](#ex02)\n",
    "- [ 8 - Update the Network Weights](#8)\n",
    "- [ 9 - Train the Agent](#9)\n",
    "- [ 10 - See the Trained Agent In Action](#10)\n",
    "- [ 11 - Congratulations!](#11)\n",
    "- [ 12 - References](#12)\n"
   ]
  },
  {
   "cell_type": "markdown",
   "metadata": {},
   "source": [
    "_**NOTE:** To prevent errors from the autograder, you are not allowed to edit or delete non-graded cells in this lab. Please also refrain from adding any new cells. \n",
    "**Once you have passed this assignment** and want to experiment with any of the non-graded code, you may follow the instructions at the bottom of this notebook._"
   ]
  },
  {
   "cell_type": "markdown",
   "metadata": {},
   "source": [
    "<a name=\"1\"></a>\n",
    "## 1 - Import Packages\n",
    "\n",
    "We'll make use of the following packages:\n",
    "- `numpy` is a package for scientific computing in python.\n",
    "- `deque` will be our data structure for our memory buffer.\n",
    "- `namedtuple` will be used to store the experience tuples.\n",
    "- The `gym` toolkit is a collection of environments that can be used to test reinforcement learning algorithms. We should note that in this notebook we are using `gym` version `0.24.0`.\n",
    "- `PIL.Image` and `pyvirtualdisplay` are needed to render the Lunar Lander environment.\n",
    "- We will use several modules from the `tensorflow.keras` framework for building deep learning models.\n",
    "- `utils` is a module that contains helper functions for this assignment. You do not need to modify the code in this file.\n",
    "\n",
    "Run the cell below to import all the necessary packages."
   ]
  },
  {
   "cell_type": "code",
   "execution_count": 1,
   "metadata": {
    "deletable": false,
    "editable": false,
    "id": "KYbOPKRtfQOr"
   },
   "outputs": [],
   "source": [
    "import time\n",
    "from collections import deque, namedtuple\n",
    "\n",
    "import gym\n",
    "import numpy as np\n",
    "import PIL.Image\n",
    "import tensorflow as tf\n",
    "import utils\n",
    "\n",
    "from pyvirtualdisplay import Display\n",
    "from tensorflow.keras import Sequential\n",
    "from tensorflow.keras.layers import Dense, Input\n",
    "from tensorflow.keras.losses import MSE\n",
    "from tensorflow.keras.optimizers import Adam"
   ]
  },
  {
   "cell_type": "code",
   "execution_count": 2,
   "metadata": {
    "deletable": false,
    "editable": false
   },
   "outputs": [],
   "source": [
    "# Set up a virtual display to render the Lunar Lander environment.\n",
    "Display(visible=0, size=(840, 480)).start();\n",
    "\n",
    "# Set the random seed for TensorFlow\n",
    "tf.random.set_seed(utils.SEED)"
   ]
  },
  {
   "cell_type": "markdown",
   "metadata": {},
   "source": [
    "<a name=\"2\"></a>\n",
    "## 2 - Hyperparameters\n",
    "\n",
    "Run the cell below to set the hyperparameters."
   ]
  },
  {
   "cell_type": "code",
   "execution_count": 3,
   "metadata": {
    "deletable": false,
    "editable": false
   },
   "outputs": [],
   "source": [
    "MEMORY_SIZE = 100_000     # size of memory buffer\n",
    "GAMMA = 0.995             # discount factor\n",
    "ALPHA = 1e-3              # learning rate  \n",
    "NUM_STEPS_FOR_UPDATE = 4  # perform a learning update every C time steps"
   ]
  },
  {
   "cell_type": "markdown",
   "metadata": {},
   "source": [
    "<a name=\"3\"></a>\n",
    "## 3 - The Lunar Lander Environment\n",
    "\n",
    "In this notebook we will be using [OpenAI's Gym Library](https://www.gymlibrary.dev/). The Gym library provides a wide variety of environments for reinforcement learning. To put it simply, an environment represents a problem or task to be solved. In this notebook, we will try to solve the Lunar Lander environment using reinforcement learning.\n",
    "\n",
    "The goal of the Lunar Lander environment is to land the lunar lander safely on the landing pad on the surface of the moon. The landing pad is designated by two flag poles and its center is at coordinates `(0,0)` but the lander is also allowed to land outside of the landing pad. The lander starts at the top center of the environment with a random initial force applied to its center of mass and has infinite fuel. The environment is considered solved if you get `200` points. \n",
    "\n",
    "<br>\n",
    "<br>\n",
    "<figure>\n",
    "  <img src = \"images/lunar_lander.gif\" width = 40%>\n",
    "      <figcaption style = \"text-align: center; font-style: italic\">Fig 1. Lunar Lander Environment.</figcaption>\n",
    "</figure>\n",
    "\n",
    "\n",
    "\n",
    "<a name=\"3.1\"></a>\n",
    "### 3.1 Action Space\n",
    "\n",
    "The agent has four discrete actions available:\n",
    "\n",
    "* Do nothing.\n",
    "* Fire right engine.\n",
    "* Fire main engine.\n",
    "* Fire left engine.\n",
    "\n",
    "Each action has a corresponding numerical value:\n",
    "\n",
    "```python\n",
    "Do nothing = 0\n",
    "Fire right engine = 1\n",
    "Fire main engine = 2\n",
    "Fire left engine = 3\n",
    "```\n",
    "\n",
    "<a name=\"3.2\"></a>\n",
    "### 3.2 Observation Space\n",
    "\n",
    "The agent's observation space consists of a state vector with 8 variables:\n",
    "\n",
    "* Its $(x,y)$ coordinates. The landing pad is always at coordinates $(0,0)$.\n",
    "* Its linear velocities $(\\dot x,\\dot y)$.\n",
    "* Its angle $\\theta$.\n",
    "* Its angular velocity $\\dot \\theta$.\n",
    "* Two booleans, $l$ and $r$, that represent whether each leg is in contact with the ground or not.\n",
    "\n",
    "<a name=\"3.3\"></a>\n",
    "### 3.3 Rewards\n",
    "\n",
    "After every step, a reward is granted. The total reward of an episode is the sum of the rewards for all the steps within that episode.\n",
    "\n",
    "For each step, the reward:\n",
    "- is increased/decreased the closer/further the lander is to the landing pad.\n",
    "- is increased/decreased the slower/faster the lander is moving.\n",
    "- is decreased the more the lander is tilted (angle not horizontal).\n",
    "- is increased by 10 points for each leg that is in contact with the ground.\n",
    "- is decreased by 0.03 points each frame a side engine is firing.\n",
    "- is decreased by 0.3 points each frame the main engine is firing.\n",
    "\n",
    "The episode receives an additional reward of -100 or +100 points for crashing or landing safely respectively.\n",
    "\n",
    "<a name=\"3.4\"></a>\n",
    "### 3.4 Episode Termination\n",
    "\n",
    "An episode ends (i.e the environment enters a terminal state) if:\n",
    "\n",
    "* The lunar lander crashes (i.e if the body of the lunar lander comes in contact with the surface of the moon).\n",
    "\n",
    "* The absolute value of the lander's $x$-coordinate is greater than 1 (i.e. it goes beyond the left or right border)\n",
    "\n",
    "You can check out the [Open AI Gym documentation](https://www.gymlibrary.dev/environments/box2d/lunar_lander/) for a full description of the environment. "
   ]
  },
  {
   "cell_type": "markdown",
   "metadata": {},
   "source": [
    "<a name=\"4\"></a>\n",
    "## 4 - Load the Environment\n",
    "\n",
    "We start by loading the `LunarLander-v2` environment from the `gym` library by using the `.make()` method. `LunarLander-v2` is the latest version of the Lunar Lander environment and you can read about its version history in the [Open AI Gym documentation](https://www.gymlibrary.dev/environments/box2d/lunar_lander/#version-history)."
   ]
  },
  {
   "cell_type": "code",
   "execution_count": 4,
   "metadata": {
    "deletable": false,
    "editable": false,
    "id": "ILVMYKewfR0n"
   },
   "outputs": [],
   "source": [
    "env = gym.make('LunarLander-v2')"
   ]
  },
  {
   "cell_type": "markdown",
   "metadata": {},
   "source": [
    "Once we load the environment we use the `.reset()` method to reset the environment to the initial state. The lander starts at the top center of the environment and we can render the first frame of the environment by using the `.render()` method."
   ]
  },
  {
   "cell_type": "code",
   "execution_count": 5,
   "metadata": {
    "deletable": false,
    "editable": false
   },
   "outputs": [
    {
     "data": {
      "image/png": "[encoded data removed]",
      "text/plain": [
       "<PIL.Image.Image image mode=RGB size=600x400 at 0x7D0F18927D90>"
      ]
     },
     "execution_count": 5,
     "metadata": {},
     "output_type": "execute_result"
    }
   ],
   "source": [
    "env.reset()\n",
    "PIL.Image.fromarray(env.render(mode='rgb_array'))"
   ]
  },
  {
   "cell_type": "markdown",
   "metadata": {},
   "source": [
    "In order to build our neural network later on we need to know the size of the state vector and the number of valid actions. We can get this information from our environment by using the `.observation_space.shape` and `action_space.n` methods, respectively."
   ]
  },
  {
   "cell_type": "code",
   "execution_count": 6,
   "metadata": {
    "deletable": false,
    "editable": false,
    "id": "x3fdqdG4CUu2"
   },
   "outputs": [
    {
     "name": "stdout",
     "output_type": "stream",
     "text": [
      "State Shape: (8,)\n",
      "Number of actions: 4\n"
     ]
    }
   ],
   "source": [
    "state_size = env.observation_space.shape\n",
    "num_actions = env.action_space.n\n",
    "\n",
    "print('State Shape:', state_size)\n",
    "print('Number of actions:', num_actions)"
   ]
  },
  {
   "cell_type": "markdown",
   "metadata": {},
   "source": [
    "<a name=\"5\"></a>\n",
    "## 5 - Interacting with the Gym Environment\n",
    "\n",
    "The Gym library implements the standard “agent-environment loop” formalism:\n",
    "\n",
    "<br>\n",
    "<center>\n",
    "<video src = \"./videos/rl_formalism.m4v\" width=\"840\" height=\"480\" controls autoplay loop poster=\"./images/rl_formalism.png\"> </video>\n",
    "<figcaption style = \"text-align:center; font-style:italic\">Fig 2. Agent-environment Loop Formalism.</figcaption>\n",
    "</center>\n",
    "<br>\n",
    "\n",
    "In the standard “agent-environment loop” formalism, an agent interacts with the environment in discrete time steps $t=0,1,2,...$. At each time step $t$, the agent uses a policy $\\pi$ to select an action $A_t$ based on its observation of the environment's state $S_t$. The agent receives a numerical reward $R_t$ and on the next time step, moves to a new state $S_{t+1}$.\n",
    "\n",
    "<a name=\"5.1\"></a>\n",
    "### 5.1 Exploring the Environment's Dynamics\n",
    "\n",
    "In Open AI's Gym environments, we use the `.step()` method to run a single time step of the environment's dynamics. In the version of `gym` that we are using the `.step()` method accepts an action and returns four values:\n",
    "\n",
    "* `observation` (**object**): an environment-specific object representing your observation of the environment. In the Lunar Lander environment this corresponds to a numpy array containing the positions and velocities of the lander as described in section [3.2 Observation Space](#3.2).\n",
    "\n",
    "\n",
    "* `reward` (**float**): amount of reward returned as a result of taking the given action. In the Lunar Lander environment this corresponds to a float of type `numpy.float64` as described in section [3.3 Rewards](#3.3).\n",
    "\n",
    "\n",
    "* `done` (**boolean**): When done is `True`, it indicates the episode has terminated and it’s time to reset the environment. \n",
    "\n",
    "\n",
    "* `info` (**dictionary**): diagnostic information useful for debugging. We won't be using this variable in this notebook but it is shown here for completeness.\n",
    "\n",
    "To begin an episode, we need to reset the environment to an initial state. We do this by using the `.reset()` method. "
   ]
  },
  {
   "cell_type": "code",
   "execution_count": 7,
   "metadata": {
    "deletable": false,
    "editable": false
   },
   "outputs": [],
   "source": [
    "# Reset the environment and get the initial state.\n",
    "current_state = env.reset()"
   ]
  },
  {
   "cell_type": "markdown",
   "metadata": {},
   "source": [
    "Once the environment is reset, the agent can start taking actions in the environment by using the `.step()` method. Note that the agent can only take one action per time step. \n",
    "\n",
    "In the cell below you can select different actions and see how the returned values change depending on the action taken. Remember that in this environment the agent has four discrete actions available and we specify them in code by using their corresponding numerical value:\n",
    "\n",
    "```python\n",
    "Do nothing = 0\n",
    "Fire right engine = 1\n",
    "Fire main engine = 2\n",
    "Fire left engine = 3\n",
    "```"
   ]
  },
  {
   "cell_type": "code",
   "execution_count": 8,
   "metadata": {
    "deletable": false
   },
   "outputs": [
    {
     "data": {
      "text/html": [
       "<style  type=\"text/css\" >\n",
       "    #T_541a946c_ff14_11ee_86ae_0242ac1200be th {\n",
       "          border: 1px solid grey;\n",
       "          text-align: center;\n",
       "    }    #T_541a946c_ff14_11ee_86ae_0242ac1200be tbody td {\n",
       "          border: 1px solid grey;\n",
       "          text-align: center;\n",
       "    }    #T_541a946c_ff14_11ee_86ae_0242ac1200berow0_col0 {\n",
       "            background-color :  grey;\n",
       "        }    #T_541a946c_ff14_11ee_86ae_0242ac1200berow1_col1 {\n",
       "            background-color :  grey;\n",
       "        }    #T_541a946c_ff14_11ee_86ae_0242ac1200berow1_col2 {\n",
       "            background-color :  grey;\n",
       "        }    #T_541a946c_ff14_11ee_86ae_0242ac1200berow1_col3 {\n",
       "            background-color :  grey;\n",
       "        }    #T_541a946c_ff14_11ee_86ae_0242ac1200berow1_col4 {\n",
       "            background-color :  grey;\n",
       "        }    #T_541a946c_ff14_11ee_86ae_0242ac1200berow1_col5 {\n",
       "            background-color :  grey;\n",
       "        }    #T_541a946c_ff14_11ee_86ae_0242ac1200berow1_col6 {\n",
       "            background-color :  grey;\n",
       "        }    #T_541a946c_ff14_11ee_86ae_0242ac1200berow1_col7 {\n",
       "            background-color :  grey;\n",
       "        }    #T_541a946c_ff14_11ee_86ae_0242ac1200berow1_col8 {\n",
       "            background-color :  grey;\n",
       "        }    #T_541a946c_ff14_11ee_86ae_0242ac1200berow1_col9 {\n",
       "            background-color :  grey;\n",
       "        }    #T_541a946c_ff14_11ee_86ae_0242ac1200berow1_col10 {\n",
       "            background-color :  grey;\n",
       "        }    #T_541a946c_ff14_11ee_86ae_0242ac1200berow1_col11 {\n",
       "            background-color :  grey;\n",
       "        }    #T_541a946c_ff14_11ee_86ae_0242ac1200berow2_col0 {\n",
       "            background-color :  grey;\n",
       "        }    #T_541a946c_ff14_11ee_86ae_0242ac1200berow3_col1 {\n",
       "            background-color :  grey;\n",
       "        }    #T_541a946c_ff14_11ee_86ae_0242ac1200berow3_col2 {\n",
       "            background-color :  grey;\n",
       "        }    #T_541a946c_ff14_11ee_86ae_0242ac1200berow3_col3 {\n",
       "            background-color :  grey;\n",
       "        }    #T_541a946c_ff14_11ee_86ae_0242ac1200berow3_col4 {\n",
       "            background-color :  grey;\n",
       "        }    #T_541a946c_ff14_11ee_86ae_0242ac1200berow3_col5 {\n",
       "            background-color :  grey;\n",
       "        }    #T_541a946c_ff14_11ee_86ae_0242ac1200berow3_col6 {\n",
       "            background-color :  grey;\n",
       "        }    #T_541a946c_ff14_11ee_86ae_0242ac1200berow3_col7 {\n",
       "            background-color :  grey;\n",
       "        }    #T_541a946c_ff14_11ee_86ae_0242ac1200berow3_col8 {\n",
       "            background-color :  grey;\n",
       "        }    #T_541a946c_ff14_11ee_86ae_0242ac1200berow3_col9 {\n",
       "            background-color :  grey;\n",
       "        }    #T_541a946c_ff14_11ee_86ae_0242ac1200berow3_col10 {\n",
       "            background-color :  grey;\n",
       "        }    #T_541a946c_ff14_11ee_86ae_0242ac1200berow3_col11 {\n",
       "            background-color :  grey;\n",
       "        }    #T_541a946c_ff14_11ee_86ae_0242ac1200berow4_col1 {\n",
       "            background-color :  grey;\n",
       "        }    #T_541a946c_ff14_11ee_86ae_0242ac1200berow4_col2 {\n",
       "            background-color :  grey;\n",
       "        }    #T_541a946c_ff14_11ee_86ae_0242ac1200berow4_col3 {\n",
       "            background-color :  grey;\n",
       "        }    #T_541a946c_ff14_11ee_86ae_0242ac1200berow4_col4 {\n",
       "            background-color :  grey;\n",
       "        }    #T_541a946c_ff14_11ee_86ae_0242ac1200berow4_col5 {\n",
       "            background-color :  grey;\n",
       "        }    #T_541a946c_ff14_11ee_86ae_0242ac1200berow4_col6 {\n",
       "            background-color :  grey;\n",
       "        }    #T_541a946c_ff14_11ee_86ae_0242ac1200berow4_col7 {\n",
       "            background-color :  grey;\n",
       "        }    #T_541a946c_ff14_11ee_86ae_0242ac1200berow4_col8 {\n",
       "            background-color :  grey;\n",
       "        }    #T_541a946c_ff14_11ee_86ae_0242ac1200berow4_col9 {\n",
       "            background-color :  grey;\n",
       "        }    #T_541a946c_ff14_11ee_86ae_0242ac1200berow4_col10 {\n",
       "            background-color :  grey;\n",
       "        }    #T_541a946c_ff14_11ee_86ae_0242ac1200berow4_col11 {\n",
       "            background-color :  grey;\n",
       "        }</style><table id=\"T_541a946c_ff14_11ee_86ae_0242ac1200be\" ><thead>    <tr>        <th class=\"blank level0\" ></th>        <th class=\"col_heading level0 col0\" ></th>        <th class=\"col_heading level0 col1\" colspan=8>State Vector</th>        <th class=\"col_heading level0 col9\" colspan=3>Derived from the State Vector (the closer to zero, the better)</th>    </tr>    <tr>        <th class=\"blank level1\" ></th>        <th class=\"col_heading level1 col0\" ></th>        <th class=\"col_heading level1 col1\" colspan=2>Coordinate</th>        <th class=\"col_heading level1 col3\" colspan=2>Velocity</th>        <th class=\"col_heading level1 col5\" colspan=2>Tilting</th>        <th class=\"col_heading level1 col7\" colspan=2>Ground contact</th>        <th class=\"col_heading level1 col9\" >Distance from landing pad</th>        <th class=\"col_heading level1 col10\" >Velocity</th>        <th class=\"col_heading level1 col11\" >Tilting Angle (absolute value)</th>    </tr>    <tr>        <th class=\"blank level2\" ></th>        <th class=\"col_heading level2 col0\" ></th>        <th class=\"col_heading level2 col1\" >X (Horizontal)</th>        <th class=\"col_heading level2 col2\" >Y (Vertical)</th>        <th class=\"col_heading level2 col3\" >X (Horizontal)</th>        <th class=\"col_heading level2 col4\" >Y (Vertical)</th>        <th class=\"col_heading level2 col5\" >Angle</th>        <th class=\"col_heading level2 col6\" >Angular Velocity</th>        <th class=\"col_heading level2 col7\" >Left Leg?</th>        <th class=\"col_heading level2 col8\" >Right Leg?</th>        <th class=\"col_heading level2 col9\" ></th>        <th class=\"col_heading level2 col10\" ></th>        <th class=\"col_heading level2 col11\" ></th>    </tr></thead><tbody>\n",
       "                <tr>\n",
       "                        <th id=\"T_541a946c_ff14_11ee_86ae_0242ac1200belevel0_row0\" class=\"row_heading level0 row0\" >Current State</th>\n",
       "                        <td id=\"T_541a946c_ff14_11ee_86ae_0242ac1200berow0_col0\" class=\"data row0 col0\" ></td>\n",
       "                        <td id=\"T_541a946c_ff14_11ee_86ae_0242ac1200berow0_col1\" class=\"data row0 col1\" >0.001919</td>\n",
       "                        <td id=\"T_541a946c_ff14_11ee_86ae_0242ac1200berow0_col2\" class=\"data row0 col2\" >1.422301</td>\n",
       "                        <td id=\"T_541a946c_ff14_11ee_86ae_0242ac1200berow0_col3\" class=\"data row0 col3\" >0.194400</td>\n",
       "                        <td id=\"T_541a946c_ff14_11ee_86ae_0242ac1200berow0_col4\" class=\"data row0 col4\" >0.505814</td>\n",
       "                        <td id=\"T_541a946c_ff14_11ee_86ae_0242ac1200berow0_col5\" class=\"data row0 col5\" >-0.002217</td>\n",
       "                        <td id=\"T_541a946c_ff14_11ee_86ae_0242ac1200berow0_col6\" class=\"data row0 col6\" >-0.044034</td>\n",
       "                        <td id=\"T_541a946c_ff14_11ee_86ae_0242ac1200berow0_col7\" class=\"data row0 col7\" >False</td>\n",
       "                        <td id=\"T_541a946c_ff14_11ee_86ae_0242ac1200berow0_col8\" class=\"data row0 col8\" >False</td>\n",
       "                        <td id=\"T_541a946c_ff14_11ee_86ae_0242ac1200berow0_col9\" class=\"data row0 col9\" >1.422302</td>\n",
       "                        <td id=\"T_541a946c_ff14_11ee_86ae_0242ac1200berow0_col10\" class=\"data row0 col10\" >0.541885</td>\n",
       "                        <td id=\"T_541a946c_ff14_11ee_86ae_0242ac1200berow0_col11\" class=\"data row0 col11\" >0.002217</td>\n",
       "            </tr>\n",
       "            <tr>\n",
       "                        <th id=\"T_541a946c_ff14_11ee_86ae_0242ac1200belevel0_row1\" class=\"row_heading level0 row1\" >Action</th>\n",
       "                        <td id=\"T_541a946c_ff14_11ee_86ae_0242ac1200berow1_col0\" class=\"data row1 col0\" >Do nothing</td>\n",
       "                        <td id=\"T_541a946c_ff14_11ee_86ae_0242ac1200berow1_col1\" class=\"data row1 col1\" ></td>\n",
       "                        <td id=\"T_541a946c_ff14_11ee_86ae_0242ac1200berow1_col2\" class=\"data row1 col2\" ></td>\n",
       "                        <td id=\"T_541a946c_ff14_11ee_86ae_0242ac1200berow1_col3\" class=\"data row1 col3\" ></td>\n",
       "                        <td id=\"T_541a946c_ff14_11ee_86ae_0242ac1200berow1_col4\" class=\"data row1 col4\" ></td>\n",
       "                        <td id=\"T_541a946c_ff14_11ee_86ae_0242ac1200berow1_col5\" class=\"data row1 col5\" ></td>\n",
       "                        <td id=\"T_541a946c_ff14_11ee_86ae_0242ac1200berow1_col6\" class=\"data row1 col6\" ></td>\n",
       "                        <td id=\"T_541a946c_ff14_11ee_86ae_0242ac1200berow1_col7\" class=\"data row1 col7\" ></td>\n",
       "                        <td id=\"T_541a946c_ff14_11ee_86ae_0242ac1200berow1_col8\" class=\"data row1 col8\" ></td>\n",
       "                        <td id=\"T_541a946c_ff14_11ee_86ae_0242ac1200berow1_col9\" class=\"data row1 col9\" ></td>\n",
       "                        <td id=\"T_541a946c_ff14_11ee_86ae_0242ac1200berow1_col10\" class=\"data row1 col10\" ></td>\n",
       "                        <td id=\"T_541a946c_ff14_11ee_86ae_0242ac1200berow1_col11\" class=\"data row1 col11\" ></td>\n",
       "            </tr>\n",
       "            <tr>\n",
       "                        <th id=\"T_541a946c_ff14_11ee_86ae_0242ac1200belevel0_row2\" class=\"row_heading level0 row2\" >Next State</th>\n",
       "                        <td id=\"T_541a946c_ff14_11ee_86ae_0242ac1200berow2_col0\" class=\"data row2 col0\" ></td>\n",
       "                        <td id=\"T_541a946c_ff14_11ee_86ae_0242ac1200berow2_col1\" class=\"data row2 col1\" >0.003839</td>\n",
       "                        <td id=\"T_541a946c_ff14_11ee_86ae_0242ac1200berow2_col2\" class=\"data row2 col2\" >1.433103</td>\n",
       "                        <td id=\"T_541a946c_ff14_11ee_86ae_0242ac1200berow2_col3\" class=\"data row2 col3\" >0.194137</td>\n",
       "                        <td id=\"T_541a946c_ff14_11ee_86ae_0242ac1200berow2_col4\" class=\"data row2 col4\" >0.480094</td>\n",
       "                        <td id=\"T_541a946c_ff14_11ee_86ae_0242ac1200berow2_col5\" class=\"data row2 col5\" >-0.004393</td>\n",
       "                        <td id=\"T_541a946c_ff14_11ee_86ae_0242ac1200berow2_col6\" class=\"data row2 col6\" >-0.043519</td>\n",
       "                        <td id=\"T_541a946c_ff14_11ee_86ae_0242ac1200berow2_col7\" class=\"data row2 col7\" >False</td>\n",
       "                        <td id=\"T_541a946c_ff14_11ee_86ae_0242ac1200berow2_col8\" class=\"data row2 col8\" >False</td>\n",
       "                        <td id=\"T_541a946c_ff14_11ee_86ae_0242ac1200berow2_col9\" class=\"data row2 col9\" >1.433108</td>\n",
       "                        <td id=\"T_541a946c_ff14_11ee_86ae_0242ac1200berow2_col10\" class=\"data row2 col10\" >0.517860</td>\n",
       "                        <td id=\"T_541a946c_ff14_11ee_86ae_0242ac1200berow2_col11\" class=\"data row2 col11\" >0.004393</td>\n",
       "            </tr>\n",
       "            <tr>\n",
       "                        <th id=\"T_541a946c_ff14_11ee_86ae_0242ac1200belevel0_row3\" class=\"row_heading level0 row3\" >Reward</th>\n",
       "                        <td id=\"T_541a946c_ff14_11ee_86ae_0242ac1200berow3_col0\" class=\"data row3 col0\" >1.104326</td>\n",
       "                        <td id=\"T_541a946c_ff14_11ee_86ae_0242ac1200berow3_col1\" class=\"data row3 col1\" ></td>\n",
       "                        <td id=\"T_541a946c_ff14_11ee_86ae_0242ac1200berow3_col2\" class=\"data row3 col2\" ></td>\n",
       "                        <td id=\"T_541a946c_ff14_11ee_86ae_0242ac1200berow3_col3\" class=\"data row3 col3\" ></td>\n",
       "                        <td id=\"T_541a946c_ff14_11ee_86ae_0242ac1200berow3_col4\" class=\"data row3 col4\" ></td>\n",
       "                        <td id=\"T_541a946c_ff14_11ee_86ae_0242ac1200berow3_col5\" class=\"data row3 col5\" ></td>\n",
       "                        <td id=\"T_541a946c_ff14_11ee_86ae_0242ac1200berow3_col6\" class=\"data row3 col6\" ></td>\n",
       "                        <td id=\"T_541a946c_ff14_11ee_86ae_0242ac1200berow3_col7\" class=\"data row3 col7\" ></td>\n",
       "                        <td id=\"T_541a946c_ff14_11ee_86ae_0242ac1200berow3_col8\" class=\"data row3 col8\" ></td>\n",
       "                        <td id=\"T_541a946c_ff14_11ee_86ae_0242ac1200berow3_col9\" class=\"data row3 col9\" ></td>\n",
       "                        <td id=\"T_541a946c_ff14_11ee_86ae_0242ac1200berow3_col10\" class=\"data row3 col10\" ></td>\n",
       "                        <td id=\"T_541a946c_ff14_11ee_86ae_0242ac1200berow3_col11\" class=\"data row3 col11\" ></td>\n",
       "            </tr>\n",
       "            <tr>\n",
       "                        <th id=\"T_541a946c_ff14_11ee_86ae_0242ac1200belevel0_row4\" class=\"row_heading level0 row4\" >Episode Terminated</th>\n",
       "                        <td id=\"T_541a946c_ff14_11ee_86ae_0242ac1200berow4_col0\" class=\"data row4 col0\" >False</td>\n",
       "                        <td id=\"T_541a946c_ff14_11ee_86ae_0242ac1200berow4_col1\" class=\"data row4 col1\" ></td>\n",
       "                        <td id=\"T_541a946c_ff14_11ee_86ae_0242ac1200berow4_col2\" class=\"data row4 col2\" ></td>\n",
       "                        <td id=\"T_541a946c_ff14_11ee_86ae_0242ac1200berow4_col3\" class=\"data row4 col3\" ></td>\n",
       "                        <td id=\"T_541a946c_ff14_11ee_86ae_0242ac1200berow4_col4\" class=\"data row4 col4\" ></td>\n",
       "                        <td id=\"T_541a946c_ff14_11ee_86ae_0242ac1200berow4_col5\" class=\"data row4 col5\" ></td>\n",
       "                        <td id=\"T_541a946c_ff14_11ee_86ae_0242ac1200berow4_col6\" class=\"data row4 col6\" ></td>\n",
       "                        <td id=\"T_541a946c_ff14_11ee_86ae_0242ac1200berow4_col7\" class=\"data row4 col7\" ></td>\n",
       "                        <td id=\"T_541a946c_ff14_11ee_86ae_0242ac1200berow4_col8\" class=\"data row4 col8\" ></td>\n",
       "                        <td id=\"T_541a946c_ff14_11ee_86ae_0242ac1200berow4_col9\" class=\"data row4 col9\" ></td>\n",
       "                        <td id=\"T_541a946c_ff14_11ee_86ae_0242ac1200berow4_col10\" class=\"data row4 col10\" ></td>\n",
       "                        <td id=\"T_541a946c_ff14_11ee_86ae_0242ac1200berow4_col11\" class=\"data row4 col11\" ></td>\n",
       "            </tr>\n",
       "    </tbody></table>"
      ],
      "text/plain": [
       "<pandas.io.formats.style.Styler at 0x7d0f019371d0>"
      ]
     },
     "metadata": {},
     "output_type": "display_data"
    }
   ],
   "source": [
    "# Select an action\n",
    "action = 0\n",
    "\n",
    "# Run a single time step of the environment's dynamics with the given action.\n",
    "next_state, reward, done, _ = env.step(action)\n",
    "\n",
    "# Display table with values.\n",
    "utils.display_table(current_state, action, next_state, reward, done)\n",
    "\n",
    "# Replace the `current_state` with the state after the action is taken\n",
    "current_state = next_state"
   ]
  },
  {
   "cell_type": "markdown",
   "metadata": {},
   "source": [
    "In practice, when we train the agent we use a loop to allow the agent to take many consecutive actions during an episode."
   ]
  },
  {
   "cell_type": "markdown",
   "metadata": {},
   "source": [
    "<a name=\"6\"></a>\n",
    "## 6 - Deep Q-Learning\n",
    "\n",
    "In cases where both the state and action space are discrete we can estimate the action-value function iteratively by using the Bellman equation:\n",
    "\n",
    "$$\n",
    "Q_{i+1}(s,a) = R + \\gamma \\max_{a'}Q_i(s',a')\n",
    "$$\n",
    "\n",
    "This iterative method converges to the optimal action-value function $Q^*(s,a)$ as $i\\to\\infty$. This means that the agent just needs to gradually explore the state-action space and keep updating the estimate of $Q(s,a)$ until it converges to the optimal action-value function $Q^*(s,a)$. However, in cases where the state space is continuous it becomes practically impossible to explore the entire state-action space. Consequently, this also makes it practically impossible to gradually estimate $Q(s,a)$ until it converges to $Q^*(s,a)$.\n",
    "\n",
    "In the Deep $Q$-Learning, we solve this problem by using a neural network to estimate the action-value function $Q(s,a)\\approx Q^*(s,a)$. We call this neural network a $Q$-Network and it can be trained by adjusting its weights at each iteration to minimize the mean-squared error in the Bellman equation.\n",
    "\n",
    "Unfortunately, using neural networks in reinforcement learning to estimate action-value functions has proven to be highly unstable. Luckily, there's a couple of techniques that can be employed to avoid instabilities. These techniques consist of using a ***Target Network*** and ***Experience Replay***. We will explore these two techniques in the following sections."
   ]
  },
  {
   "cell_type": "markdown",
   "metadata": {},
   "source": [
    "<a name=\"6.1\"></a>\n",
    "### 6.1 Target Network\n",
    "\n",
    "We can train the $Q$-Network by adjusting it's weights at each iteration to minimize the mean-squared error in the Bellman equation, where the target values are given by:\n",
    "\n",
    "$$\n",
    "y = R + \\gamma \\max_{a'}Q(s',a';w)\n",
    "$$\n",
    "\n",
    "where $w$ are the weights of the $Q$-Network. This means that we are adjusting the weights $w$ at each iteration to minimize the following error:\n",
    "\n",
    "$$\n",
    "\\overbrace{\\underbrace{R + \\gamma \\max_{a'}Q(s',a'; w)}_{\\rm {y~target}} - Q(s,a;w)}^{\\rm {Error}}\n",
    "$$\n",
    "\n",
    "Notice that this forms a problem because the $y$ target is changing on every iteration. Having a constantly moving target can lead to oscillations and instabilities. To avoid this, we can create\n",
    "a separate neural network for generating the $y$ targets. We call this separate neural network the **target $\\hat Q$-Network** and it will have the same architecture as the original $Q$-Network. By using the target $\\hat Q$-Network, the above error becomes:\n",
    "\n",
    "$$\n",
    "\\overbrace{\\underbrace{R + \\gamma \\max_{a'}\\hat{Q}(s',a'; w^-)}_{\\rm {y~target}} - Q(s,a;w)}^{\\rm {Error}}\n",
    "$$\n",
    "\n",
    "where $w^-$ and $w$ are the weights of the target $\\hat Q$-Network and $Q$-Network, respectively.\n",
    "\n",
    "In practice, we will use the following algorithm: every $C$ time steps we will use the $\\hat Q$-Network to generate the $y$ targets and update the weights of the target $\\hat Q$-Network using the weights of the $Q$-Network. We will update the weights $w^-$ of the the target $\\hat Q$-Network using a **soft update**. This means that we will update the weights $w^-$ using the following rule:\n",
    " \n",
    "$$\n",
    "w^-\\leftarrow \\tau w + (1 - \\tau) w^-\n",
    "$$\n",
    "\n",
    "where $\\tau\\ll 1$. By using the soft update, we are ensuring that the target values, $y$, change slowly, which greatly improves the stability of our learning algorithm."
   ]
  },
  {
   "cell_type": "markdown",
   "metadata": {},
   "source": [
    "<a name=\"ex01\"></a>\n",
    "### Exercise 1\n",
    "\n",
    "In this exercise you will create the $Q$ and target $\\hat Q$ networks and set the optimizer. Remember that the Deep $Q$-Network (DQN) is a neural network that approximates the action-value function $Q(s,a)\\approx Q^*(s,a)$. It does this by learning how to map states to $Q$ values.\n",
    "\n",
    "To solve the Lunar Lander environment, we are going to employ a DQN with the following architecture:\n",
    "\n",
    "* An `Input` layer that takes `state_size` as input.\n",
    "\n",
    "* A `Dense` layer with `64` units and a `relu` activation function.\n",
    "\n",
    "* A `Dense` layer with `64` units and a `relu` activation function.\n",
    "\n",
    "* A `Dense` layer with `num_actions` units and a `linear` activation function. This will be the output layer of our network.\n",
    "\n",
    "\n",
    "In the cell below you should create the $Q$-Network and the target $\\hat Q$-Network using the model architecture described above. Remember that both the $Q$-Network and the target $\\hat Q$-Network have the same architecture.\n",
    "\n",
    "Lastly, you should set `Adam` as the optimizer with a learning rate equal to `ALPHA`. Recall that `ALPHA` was defined in the [Hyperparameters](#2) section. We should note that for this exercise you should use the already imported packages:\n",
    "```python\n",
    "from tensorflow.keras.layers import Dense, Input\n",
    "from tensorflow.keras.optimizers import Adam\n",
    "```"
   ]
  },
  {
   "cell_type": "code",
   "execution_count": 11,
   "metadata": {
    "deletable": false
   },
   "outputs": [],
   "source": [
    "# UNQ_C1\n",
    "# GRADED CELL\n",
    "\n",
    "# Create the Q-Network\n",
    "q_network = Sequential([\n",
    "    ### START CODE HERE ### \n",
    "    Input(state_size,),\n",
    "    Dense(64, activation='relu'),\n",
    "    Dense(64, activation='relu'),\n",
    "    Dense(num_actions, activation='linear')\n",
    "    ### END CODE HERE ### \n",
    "    ])\n",
    "\n",
    "# Create the target Q^-Network\n",
    "target_q_network = Sequential([\n",
    "    ### START CODE HERE ### \n",
    "    Input(state_size,),\n",
    "    Dense(64, activation='relu'),\n",
    "    Dense(64, activation='relu'),\n",
    "    Dense(num_actions, activation='linear')\n",
    "    ### END CODE HERE ###\n",
    "    ])\n",
    "\n",
    "### START CODE HERE ### \n",
    "optimizer = Adam(learning_rate=ALPHA)\n",
    "### END CODE HERE ###"
   ]
  },
  {
   "cell_type": "code",
   "execution_count": 12,
   "metadata": {
    "deletable": false,
    "editable": false
   },
   "outputs": [
    {
     "name": "stdout",
     "output_type": "stream",
     "text": [
      "\u001b[92mAll tests passed!\n",
      "\u001b[92mAll tests passed!\n",
      "\u001b[92mAll tests passed!\n"
     ]
    }
   ],
   "source": [
    "# UNIT TEST\n",
    "from public_tests import *\n",
    "\n",
    "test_network(q_network)\n",
    "test_network(target_q_network)\n",
    "test_optimizer(optimizer, ALPHA) "
   ]
  },
  {
   "cell_type": "markdown",
   "metadata": {},
   "source": [
    "<details>\n",
    "  <summary><font size=\"3\" color=\"darkgreen\"><b>Click for hints</b></font></summary>\n",
    "    \n",
    "```python\n",
    "# Create the Q-Network\n",
    "q_network = Sequential([\n",
    "    Input(shape=state_size),                      \n",
    "    Dense(units=64, activation='relu'),            \n",
    "    Dense(units=64, activation='relu'),            \n",
    "    Dense(units=num_actions, activation='linear'),\n",
    "    ])\n",
    "\n",
    "# Create the target Q^-Network\n",
    "target_q_network = Sequential([\n",
    "    Input(shape=state_size),                       \n",
    "    Dense(units=64, activation='relu'),            \n",
    "    Dense(units=64, activation='relu'),            \n",
    "    Dense(units=num_actions, activation='linear'), \n",
    "    ])\n",
    "\n",
    "optimizer = Adam(learning_rate=ALPHA)                                  \n",
    "``` "
   ]
  },
  {
   "cell_type": "markdown",
   "metadata": {},
   "source": [
    "<a name=\"6.2\"></a>\n",
    "### 6.2 Experience Replay\n",
    "\n",
    "When an agent interacts with the environment, the states, actions, and rewards the agent experiences are sequential by nature. If the agent tries to learn from these consecutive experiences it can run into problems due to the strong correlations between them. To avoid this, we employ a technique known as **Experience Replay** to generate uncorrelated experiences for training our agent. Experience replay consists of storing the agent's experiences (i.e the states, actions, and rewards the agent receives) in a memory buffer and then sampling a random mini-batch of experiences from the buffer to do the learning. The experience tuples $(S_t, A_t, R_t, S_{t+1})$ will be added to the memory buffer at each time step as the agent interacts with the environment.\n",
    "\n",
    "For convenience, we will store the experiences as named tuples."
   ]
  },
  {
   "cell_type": "code",
   "execution_count": 13,
   "metadata": {
    "deletable": false,
    "editable": false
   },
   "outputs": [],
   "source": [
    "# Store experiences as named tuples\n",
    "experience = namedtuple(\"Experience\", field_names=[\"state\", \"action\", \"reward\", \"next_state\", \"done\"])"
   ]
  },
  {
   "cell_type": "markdown",
   "metadata": {},
   "source": [
    "By using experience replay we avoid problematic correlations, oscillations and instabilities. In addition, experience replay also allows the agent to potentially use the same experience in multiple weight updates, which increases data efficiency."
   ]
  },
  {
   "cell_type": "markdown",
   "metadata": {},
   "source": [
    "<a name=\"7\"></a>\n",
    "## 7 - Deep Q-Learning Algorithm with Experience Replay\n",
    "\n",
    "Now that we know all the techniques that we are going to use, we can put them together to arrive at the Deep Q-Learning Algorithm With Experience Replay.\n",
    "<br>\n",
    "<br>\n",
    "<figure>\n",
    "  <img src = \"images/deep_q_algorithm.png\" width = 90% style = \"border: thin silver solid; padding: 0px\">\n",
    "      <figcaption style = \"text-align: center; font-style: italic\">Fig 3. Deep Q-Learning with Experience Replay.</figcaption>\n",
    "</figure>"
   ]
  },
  {
   "cell_type": "markdown",
   "metadata": {},
   "source": [
    "<a name=\"ex02\"></a>\n",
    "### Exercise 2\n",
    "\n",
    "In this exercise you will implement line ***12*** of the algorithm outlined in *Fig 3* above and you will also compute the loss between the $y$ targets and the $Q(s,a)$ values. In the cell below, complete the `compute_loss` function by setting the $y$ targets equal to:\n",
    "\n",
    "$$\n",
    "\\begin{equation}\n",
    "    y_j =\n",
    "    \\begin{cases}\n",
    "      R_j & \\text{if episode terminates at step  } j+1\\\\\n",
    "      R_j + \\gamma \\max_{a'}\\hat{Q}(s_{j+1},a') & \\text{otherwise}\\\\\n",
    "    \\end{cases}       \n",
    "\\end{equation}\n",
    "$$\n",
    "\n",
    "Here are a couple of things to note:\n",
    "\n",
    "* The `compute_loss` function takes in a mini-batch of experience tuples. This mini-batch of experience tuples is unpacked to extract the `states`, `actions`, `rewards`, `next_states`, and `done_vals`. You should keep in mind that these variables are *TensorFlow Tensors* whose size will depend on the mini-batch size. For example, if the mini-batch size is `64` then both `rewards` and `done_vals` will be TensorFlow Tensors with `64` elements.\n",
    "\n",
    "\n",
    "* Using `if/else` statements to set the $y$ targets will not work when the variables are tensors with many elements. However, notice that you can use the `done_vals` to implement the above in a single line of code. To do this, recall that the `done` variable is a Boolean variable that takes the value `True` when an episode terminates at step $j+1$ and it is `False` otherwise. Taking into account that a Boolean value of `True` has the numerical value of `1` and a Boolean value of `False` has the numerical value of `0`, you can use the factor `(1 - done_vals)` to implement the above in a single line of code. Here's a hint: notice that `(1 - done_vals)` has a value of `0` when `done_vals` is `True` and a value of `1` when `done_vals` is `False`. \n",
    "\n",
    "Lastly, compute the loss by calculating the Mean-Squared Error (`MSE`) between the `y_targets` and the `q_values`. To calculate the mean-squared error you should use the already imported package `MSE`:\n",
    "```python\n",
    "from tensorflow.keras.losses import MSE\n",
    "```"
   ]
  },
  {
   "cell_type": "code",
   "execution_count": 14,
   "metadata": {
    "deletable": false
   },
   "outputs": [],
   "source": [
    "# UNQ_C2\n",
    "# GRADED FUNCTION: calculate_loss\n",
    "\n",
    "def compute_loss(experiences, gamma, q_network, target_q_network):\n",
    "    \"\"\" \n",
    "    Calculates the loss.\n",
    "    \n",
    "    Args:\n",
    "      experiences: (tuple) tuple of [\"state\", \"action\", \"reward\", \"next_state\", \"done\"] namedtuples\n",
    "      gamma: (float) The discount factor.\n",
    "      q_network: (tf.keras.Sequential) Keras model for predicting the q_values\n",
    "      target_q_network: (tf.keras.Sequential) Keras model for predicting the targets\n",
    "          \n",
    "    Returns:\n",
    "      loss: (TensorFlow Tensor(shape=(0,), dtype=int32)) the Mean-Squared Error between\n",
    "            the y targets and the Q(s,a) values.\n",
    "    \"\"\"\n",
    "\n",
    "    # Unpack the mini-batch of experience tuples\n",
    "    states, actions, rewards, next_states, done_vals = experiences\n",
    "    \n",
    "    # Compute max Q^(s,a)\n",
    "    max_qsa = tf.reduce_max(target_q_network(next_states), axis=-1)\n",
    "    \n",
    "    # Set y = R if episode terminates, otherwise set y = R + γ max Q^(s,a).\n",
    "    ### START CODE HERE ### \n",
    "    y_targets = done_vals*(rewards) + (1 - done_vals)*(rewards + gamma*max_qsa)\n",
    "    ### END CODE HERE ###\n",
    "    \n",
    "    # Get the q_values and reshape to match y_targets\n",
    "    q_values = q_network(states)\n",
    "    q_values = tf.gather_nd(q_values, tf.stack([tf.range(q_values.shape[0]),\n",
    "                                                tf.cast(actions, tf.int32)], axis=1))\n",
    "        \n",
    "    # Compute the loss\n",
    "    ### START CODE HERE ### \n",
    "    loss = MSE(y_targets, q_values) \n",
    "    ### END CODE HERE ### \n",
    "    \n",
    "    return loss"
   ]
  },
  {
   "cell_type": "code",
   "execution_count": 15,
   "metadata": {
    "deletable": false,
    "editable": false
   },
   "outputs": [
    {
     "name": "stdout",
     "output_type": "stream",
     "text": [
      "\u001b[92mAll tests passed!\n"
     ]
    }
   ],
   "source": [
    "# UNIT TEST    \n",
    "test_compute_loss(compute_loss)"
   ]
  },
  {
   "cell_type": "markdown",
   "metadata": {},
   "source": [
    "<details>\n",
    "  <summary><font size=\"3\" color=\"darkgreen\"><b>Click for hints</b></font></summary>\n",
    "    \n",
    "```python\n",
    "def compute_loss(experiences, gamma, q_network, target_q_network):\n",
    "    \"\"\" \n",
    "    Calculates the loss.\n",
    "    \n",
    "    Args:\n",
    "      experiences: (tuple) tuple of [\"state\", \"action\", \"reward\", \"next_state\", \"done\"] namedtuples\n",
    "      gamma: (float) The discount factor.\n",
    "      q_network: (tf.keras.Sequential) Keras model for predicting the q_values\n",
    "      target_q_network: (tf.keras.Sequential) Keras model for predicting the targets\n",
    "          \n",
    "    Returns:\n",
    "      loss: (TensorFlow Tensor(shape=(0,), dtype=int32)) the Mean-Squared Error between\n",
    "            the y targets and the Q(s,a) values.\n",
    "    \"\"\"\n",
    "\n",
    "    \n",
    "    # Unpack the mini-batch of experience tuples\n",
    "    states, actions, rewards, next_states, done_vals = experiences\n",
    "    \n",
    "    # Compute max Q^(s,a)\n",
    "    max_qsa = tf.reduce_max(target_q_network(next_states), axis=-1)\n",
    "    \n",
    "    # Set y = R if episode terminates, otherwise set y = R + γ max Q^(s,a).\n",
    "    y_targets = rewards + (gamma * max_qsa * (1 - done_vals))\n",
    "    \n",
    "    # Get the q_values\n",
    "    q_values = q_network(states)\n",
    "    q_values = tf.gather_nd(q_values, tf.stack([tf.range(q_values.shape[0]),\n",
    "                                                tf.cast(actions, tf.int32)], axis=1))\n",
    "    \n",
    "    # Calculate the loss\n",
    "    loss = MSE(y_targets, q_values)\n",
    "    \n",
    "    return loss\n",
    "\n",
    "``` \n",
    "    "
   ]
  },
  {
   "cell_type": "markdown",
   "metadata": {},
   "source": [
    "<a name=\"8\"></a>\n",
    "## 8 - Update the Network Weights\n",
    "\n",
    "We will use the `agent_learn` function below to implement lines ***12 -14*** of the algorithm outlined in [Fig 3](#7). The `agent_learn` function will update the weights of the $Q$ and target $\\hat Q$ networks using a custom training loop. Because we are using a custom training loop we need to retrieve the gradients via a `tf.GradientTape` instance, and then call `optimizer.apply_gradients()` to update the weights of our $Q$-Network. Note that we are also using the `@tf.function` decorator to increase performance. Without this decorator our training will take twice as long. If you would like to know more about how to increase performance with `@tf.function` take a look at the [TensorFlow documentation](https://www.tensorflow.org/guide/function).\n",
    "\n",
    "The last line of this function updates the weights of the target $\\hat Q$-Network using a [soft update](#6.1). If you want to know how this is implemented in code we encourage you to take a look at the `utils.update_target_network` function in the `utils` module."
   ]
  },
  {
   "cell_type": "code",
   "execution_count": 16,
   "metadata": {
    "deletable": false,
    "editable": false
   },
   "outputs": [],
   "source": [
    "@tf.function\n",
    "def agent_learn(experiences, gamma):\n",
    "    \"\"\"\n",
    "    Updates the weights of the Q networks.\n",
    "    \n",
    "    Args:\n",
    "      experiences: (tuple) tuple of [\"state\", \"action\", \"reward\", \"next_state\", \"done\"] namedtuples\n",
    "      gamma: (float) The discount factor.\n",
    "    \n",
    "    \"\"\"\n",
    "    \n",
    "    # Calculate the loss\n",
    "    with tf.GradientTape() as tape:\n",
    "        loss = compute_loss(experiences, gamma, q_network, target_q_network)\n",
    "\n",
    "    # Get the gradients of the loss with respect to the weights.\n",
    "    gradients = tape.gradient(loss, q_network.trainable_variables)\n",
    "    \n",
    "    # Update the weights of the q_network.\n",
    "    optimizer.apply_gradients(zip(gradients, q_network.trainable_variables))\n",
    "\n",
    "    # update the weights of target q_network\n",
    "    utils.update_target_network(q_network, target_q_network)"
   ]
  },
  {
   "cell_type": "markdown",
   "metadata": {},
   "source": [
    "<a name=\"9\"></a>\n",
    "## 9 - Train the Agent\n",
    "\n",
    "We are now ready to train our agent to solve the Lunar Lander environment. In the cell below we will implement the algorithm in [Fig 3](#7) line by line (please note that we have included the same algorithm below for easy reference. This will prevent you from scrolling up and down the notebook):\n",
    "\n",
    "* **Line 1**: We initialize the `memory_buffer` with a capacity of $N =$ `MEMORY_SIZE`. Notice that we are using a `deque` as the data structure for our `memory_buffer`.\n",
    "\n",
    "\n",
    "* **Line 2**: We skip this line since we already initialized the `q_network` in [Exercise 1](#ex01).\n",
    "\n",
    "\n",
    "* **Line 3**: We initialize the `target_q_network` by setting its weights to be equal to those of the `q_network`.\n",
    "\n",
    "\n",
    "* **Line 4**: We start the outer loop. Notice that we have set $M =$ `num_episodes = 2000`. This number is reasonable because the agent should be able to solve the Lunar Lander environment in less than `2000` episodes using this notebook's default parameters.\n",
    "\n",
    "\n",
    "* **Line 5**: We use the `.reset()` method to reset the environment to the initial state and get the initial state.\n",
    "\n",
    "\n",
    "* **Line 6**: We start the inner loop. Notice that we have set $T =$ `max_num_timesteps = 1000`. This means that the episode will automatically terminate if the episode hasn't terminated after `1000` time steps.\n",
    "\n",
    "\n",
    "* **Line 7**: The agent observes the current `state` and chooses an `action` using an $\\epsilon$-greedy policy. Our agent starts out using a value of $\\epsilon =$ `epsilon = 1` which yields an $\\epsilon$-greedy policy that is equivalent to the equiprobable random policy. This means that at the beginning of our training, the agent is just going to take random actions regardless of the observed `state`. As training progresses we will decrease the value of $\\epsilon$ slowly towards a minimum value using a given $\\epsilon$-decay rate. We want this minimum value to be close to zero because a value of $\\epsilon = 0$ will yield an $\\epsilon$-greedy policy that is equivalent to the greedy policy. This means that towards the end of training, the agent will lean towards selecting the `action` that it believes (based on its past experiences) will maximize $Q(s,a)$. We will set the minimum $\\epsilon$ value to be `0.01` and not exactly 0 because we always want to keep a little bit of exploration during training. If you want to know how this is implemented in code we encourage you to take a look at the `utils.get_action` function in the `utils` module.\n",
    "\n",
    "\n",
    "* **Line 8**: We use the `.step()` method to take the given `action` in the environment and get the `reward` and the `next_state`. \n",
    "\n",
    "\n",
    "* **Line 9**: We store the `experience(state, action, reward, next_state, done)` tuple in our `memory_buffer`. Notice that we also store the `done` variable so that we can keep track of when an episode terminates. This allowed us to set the $y$ targets in [Exercise 2](#ex02).\n",
    "\n",
    "\n",
    "* **Line 10**: We check if the conditions are met to perform a learning update. We do this by using our custom `utils.check_update_conditions` function. This function checks if $C =$ `NUM_STEPS_FOR_UPDATE = 4` time steps have occured and if our `memory_buffer` has enough experience tuples to fill a mini-batch. For example, if the mini-batch size is `64`, then our `memory_buffer` should have more than `64` experience tuples in order to pass the latter condition. If the conditions are met, then the `utils.check_update_conditions` function will return a value of `True`, otherwise it will return a value of `False`.\n",
    "\n",
    "\n",
    "* **Lines 11 - 14**: If the `update` variable is `True` then we perform a learning update. The learning update consists of sampling a random mini-batch of experience tuples from our `memory_buffer`, setting the $y$ targets, performing gradient descent, and updating the weights of the networks. We will use the `agent_learn` function we defined in [Section 8](#8) to perform the latter 3.\n",
    "\n",
    "\n",
    "* **Line 15**: At the end of each iteration of the inner loop we set `next_state` as our new `state` so that the loop can start again from this new state. In addition, we check if the episode has reached a terminal state (i.e we check if `done = True`). If a terminal state has been reached, then we break out of the inner loop.\n",
    "\n",
    "\n",
    "* **Line 16**: At the end of each iteration of the outer loop we update the value of $\\epsilon$, and check if the environment has been solved. We consider that the environment has been solved if the agent receives an average of `200` points in the last `100` episodes. If the environment has not been solved we continue the outer loop and start a new episode.\n",
    "\n",
    "Finally, we wanted to note that we have included some extra variables to keep track of the total number of points the agent received in each episode. This will help us determine if the agent has solved the environment and it will also allow us to see how our agent performed during training. We also use the `time` module to measure how long the training takes. \n",
    "\n",
    "<br>\n",
    "<br>\n",
    "<figure>\n",
    "  <img src = \"images/deep_q_algorithm.png\" width = 90% style = \"border: thin silver solid; padding: 0px\">\n",
    "      <figcaption style = \"text-align: center; font-style: italic\">Fig 4. Deep Q-Learning with Experience Replay.</figcaption>\n",
    "</figure>\n",
    "<br>\n",
    "\n",
    "**Note:** With this notebook's default parameters, the following cell takes between 10 to 15 minutes to run. "
   ]
  },
  {
   "cell_type": "code",
   "execution_count": 17,
   "metadata": {
    "deletable": false,
    "editable": false
   },
   "outputs": [
    {
     "name": "stdout",
     "output_type": "stream",
     "text": [
      "Episode 100 | Total point average of the last 100 episodes: -132.04\n",
      "Episode 200 | Total point average of the last 100 episodes: -89.677\n",
      "Episode 300 | Total point average of the last 100 episodes: -45.00\n",
      "Episode 400 | Total point average of the last 100 episodes: 124.20\n",
      "Episode 455 | Total point average of the last 100 episodes: 200.05\n",
      "\n",
      "Environment solved in 455 episodes!\n",
      "\n",
      "Total Runtime: 636.26 s (10.60 min)\n"
     ]
    }
   ],
   "source": [
    "start = time.time()\n",
    "\n",
    "num_episodes = 2000\n",
    "max_num_timesteps = 1000\n",
    "\n",
    "total_point_history = []\n",
    "\n",
    "num_p_av = 100    # number of total points to use for averaging\n",
    "epsilon = 1.0     # initial ε value for ε-greedy policy\n",
    "\n",
    "# Create a memory buffer D with capacity N\n",
    "memory_buffer = deque(maxlen=MEMORY_SIZE)\n",
    "\n",
    "# Set the target network weights equal to the Q-Network weights\n",
    "target_q_network.set_weights(q_network.get_weights())\n",
    "\n",
    "for i in range(num_episodes):\n",
    "    \n",
    "    # Reset the environment to the initial state and get the initial state\n",
    "    state = env.reset()\n",
    "    total_points = 0\n",
    "    \n",
    "    for t in range(max_num_timesteps):\n",
    "        \n",
    "        # From the current state S choose an action A using an ε-greedy policy\n",
    "        state_qn = np.expand_dims(state, axis=0)  # state needs to be the right shape for the q_network\n",
    "        q_values = q_network(state_qn)\n",
    "        action = utils.get_action(q_values, epsilon)\n",
    "        \n",
    "        # Take action A and receive reward R and the next state S'\n",
    "        next_state, reward, done, _ = env.step(action)\n",
    "        \n",
    "        # Store experience tuple (S,A,R,S') in the memory buffer.\n",
    "        # We store the done variable as well for convenience.\n",
    "        memory_buffer.append(experience(state, action, reward, next_state, done))\n",
    "        \n",
    "        # Only update the network every NUM_STEPS_FOR_UPDATE time steps.\n",
    "        update = utils.check_update_conditions(t, NUM_STEPS_FOR_UPDATE, memory_buffer)\n",
    "        \n",
    "        if update:\n",
    "            # Sample random mini-batch of experience tuples (S,A,R,S') from D\n",
    "            experiences = utils.get_experiences(memory_buffer)\n",
    "            \n",
    "            # Set the y targets, perform a gradient descent step,\n",
    "            # and update the network weights.\n",
    "            agent_learn(experiences, GAMMA)\n",
    "        \n",
    "        state = next_state.copy()\n",
    "        total_points += reward\n",
    "        \n",
    "        if done:\n",
    "            break\n",
    "            \n",
    "    total_point_history.append(total_points)\n",
    "    av_latest_points = np.mean(total_point_history[-num_p_av:])\n",
    "    \n",
    "    # Update the ε value\n",
    "    epsilon = utils.get_new_eps(epsilon)\n",
    "\n",
    "    print(f\"\\rEpisode {i+1} | Total point average of the last {num_p_av} episodes: {av_latest_points:.2f}\", end=\"\")\n",
    "\n",
    "    if (i+1) % num_p_av == 0:\n",
    "        print(f\"\\rEpisode {i+1} | Total point average of the last {num_p_av} episodes: {av_latest_points:.2f}\")\n",
    "\n",
    "    # We will consider that the environment is solved if we get an\n",
    "    # average of 200 points in the last 100 episodes.\n",
    "    if av_latest_points >= 200.0:\n",
    "        print(f\"\\n\\nEnvironment solved in {i+1} episodes!\")\n",
    "        q_network.save('lunar_lander_model.h5')\n",
    "        break\n",
    "        \n",
    "tot_time = time.time() - start\n",
    "\n",
    "print(f\"\\nTotal Runtime: {tot_time:.2f} s ({(tot_time/60):.2f} min)\")"
   ]
  },
  {
   "cell_type": "markdown",
   "metadata": {},
   "source": [
    "We can plot the total point history along with the moving average to see how our agent improved during training. If you want to know about the different plotting options available in the `utils.plot_history` function we encourage you to take a look at the `utils` module."
   ]
  },
  {
   "cell_type": "code",
   "execution_count": 18,
   "metadata": {
    "deletable": false,
    "editable": false,
    "id": "E_EUXxurfe8m",
    "scrolled": false
   },
   "outputs": [
    {
     "data": {
      "image/png": "[encoded data removed]",
      "text/plain": [
       "<Figure size 720x504 with 1 Axes>"
      ]
     },
     "metadata": {},
     "output_type": "display_data"
    }
   ],
   "source": [
    "# Plot the total point history along with the moving average\n",
    "utils.plot_history(total_point_history)"
   ]
  },
  {
   "cell_type": "markdown",
   "metadata": {
    "id": "c_xwgaX5MnYt"
   },
   "source": [
    "<a name=\"10\"></a>\n",
    "## 10 - See the Trained Agent In Action\n",
    "\n",
    "Now that we have trained our agent, we can see it in action. We will use the `utils.create_video` function to create a video of our agent interacting with the environment using the trained $Q$-Network. The `utils.create_video` function uses the `imageio` library to create the video. This library produces some warnings that can be distracting, so, to suppress these warnings we run the code below."
   ]
  },
  {
   "cell_type": "code",
   "execution_count": 19,
   "metadata": {
    "deletable": false,
    "editable": false
   },
   "outputs": [],
   "source": [
    "# Suppress warnings from imageio\n",
    "import logging\n",
    "logging.getLogger().setLevel(logging.ERROR)"
   ]
  },
  {
   "cell_type": "markdown",
   "metadata": {},
   "source": [
    "In the cell below we create a video of our agent interacting with the Lunar Lander environment using the trained `q_network`. The video is saved to the `videos` folder with the given `filename`. We use the `utils.embed_mp4` function to embed the video in the Jupyter Notebook so that we can see it here directly without having to download it.\n",
    "\n",
    "We should note that since the lunar lander starts with a random initial force applied to its center of mass, every time you run the cell below you will see a different video. If the agent was trained properly, it should be able to land the lunar lander in the landing pad every time, regardless of the initial force applied to its center of mass."
   ]
  },
  {
   "cell_type": "code",
   "execution_count": 21,
   "metadata": {
    "deletable": false,
    "editable": false,
    "id": "3Ttb_zLeJKiG"
   },
   "outputs": [
    {
     "data": {
      "text/html": [
       "\n",
       "    <video width=\"840\" height=\"480\" controls>\n",
       "    <source src=\"data:video/mp4;base64,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\" type=\"video/mp4\">\n",
       "    Your browser does not support the video tag.\n",
       "    </video>"
      ],
      "text/plain": [
       "<IPython.core.display.HTML object>"
      ]
     },
     "execution_count": 21,
     "metadata": {},
     "output_type": "execute_result"
    }
   ],
   "source": [
    "filename = \"./videos/lunar_lander.mp4\"\n",
    "\n",
    "utils.create_video(filename, env, q_network)\n",
    "utils.embed_mp4(filename)"
   ]
  },
  {
   "cell_type": "markdown",
   "metadata": {},
   "source": [
    "<a name=\"11\"></a>\n",
    "## 11 - Congratulations!\n",
    "\n",
    "You have successfully used Deep Q-Learning with Experience Replay to train an agent to land a lunar lander safely on a landing pad on the surface of the moon. Congratulations!"
   ]
  },
  {
   "cell_type": "markdown",
   "metadata": {},
   "source": [
    "<a name=\"12\"></a>\n",
    "## 12 - References\n",
    "\n",
    "If you would like to learn more about Deep Q-Learning, we recommend you check out the following papers.\n",
    "\n",
    "\n",
    "* Mnih, V., Kavukcuoglu, K., Silver, D. et al. Human-level control through deep reinforcement learning. Nature 518, 529–533 (2015).\n",
    "\n",
    "\n",
    "* Lillicrap, T. P., Hunt, J. J., Pritzel, A., et al. Continuous Control with Deep Reinforcement Learning. ICLR (2016).\n",
    "\n",
    "\n",
    "* Mnih, V., Kavukcuoglu, K., Silver, D. et al. Playing Atari with Deep Reinforcement Learning. arXiv e-prints.  arXiv:1312.5602 (2013)."
   ]
  },
  {
   "cell_type": "markdown",
   "metadata": {},
   "source": [
    "<details>\n",
    "  <summary><font size=\"2\" color=\"darkgreen\"><b>Please click here if you want to experiment with any of the non-graded code.</b></font></summary>\n",
    "    <p><i><b>Important Note: Please only do this when you've already passed the assignment to avoid problems with the autograder.</b></i>\n",
    "    <ol>\n",
    "        <li> On the notebook’s menu, click “View” > “Cell Toolbar” > “Edit Metadata”</li>\n",
    "        <li> Hit the “Edit Metadata” button next to the code cell which you want to lock/unlock</li>\n",
    "        <li> Set the attribute value for “editable” to:\n",
    "            <ul>\n",
    "                <li> “true” if you want to unlock it </li>\n",
    "                <li> “false” if you want to lock it </li>\n",
    "            </ul>\n",
    "        </li>\n",
    "        <li> On the notebook’s menu, click “View” > “Cell Toolbar” > “None” </li>\n",
    "    </ol>\n",
    "    <p> Here's a short demo of how to do the steps above: \n",
    "        <br>\n",
    "        <img src=\"https://lh3.google.com/u/0/d/14Xy_Mb17CZVgzVAgq7NCjMVBvSae3xO1\" align=\"center\" alt=\"unlock_cells.gif\">\n",
    "</details>"
   ]
  }
 ],
 "metadata": {
  "accelerator": "GPU",
  "colab": {
   "collapsed_sections": [],
   "name": "TensorFlow - Lunar Lander.ipynb",
   "provenance": []
  },
  "kernelspec": {
   "display_name": "Python 3",
   "language": "python",
   "name": "python3"
  },
  "language_info": {
   "codemirror_mode": {
    "name": "ipython",
    "version": 3
   },
   "file_extension": ".py",
   "mimetype": "text/x-python",
   "name": "python",
   "nbconvert_exporter": "python",
   "pygments_lexer": "ipython3",
   "version": "3.7.6"
  }
 },
 "nbformat": 4,
 "nbformat_minor": 1
}
